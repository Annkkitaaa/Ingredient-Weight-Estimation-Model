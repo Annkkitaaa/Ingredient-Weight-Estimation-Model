{
 "cells": [
  {
   "cell_type": "markdown",
   "id": "4b6aa2ad-4bf0-4d33-b4c8-6bd33dce90d3",
   "metadata": {},
   "source": [
    "# 1. Data Preprocessing"
   ]
  },
  {
   "cell_type": "code",
   "execution_count": 1,
   "id": "98df3670-c9f1-40d9-837f-326785f31cca",
   "metadata": {},
   "outputs": [
    {
     "name": "stdout",
     "output_type": "stream",
     "text": [
      "  NDB_No                Descrip  Energy_kcal  Protein_g  Saturated_fats_g  \\\n",
      "0   1001       butter with salt        717.0       0.85            51.368   \n",
      "1   1002  butter whipped w salt        718.0       0.49            45.390   \n",
      "2   1003   butter oil anhydrous        876.0       0.28            61.924   \n",
      "3   1004            cheese blue        353.0      21.40            18.669   \n",
      "4   1005           cheese brick        371.0      23.24            18.764   \n",
      "\n",
      "   Fat_g  Carb_g  Fiber_g  Sugar_g  Calcium_mg  ...  VitC_mg Thiamin_mg  \\\n",
      "0  81.11    0.06      0.0     0.06        24.0  ...      0.0      0.005   \n",
      "1  78.30    2.87      0.0     0.06        23.0  ...      0.0      0.007   \n",
      "2  99.48    0.00      0.0     0.00         4.0  ...      0.0      0.001   \n",
      "3  28.74    2.34      0.0     0.50       528.0  ...      0.0      0.029   \n",
      "4  29.68    2.79      0.0     0.51       674.0  ...      0.0      0.014   \n",
      "\n",
      "   Riboflavin_mg  Niacin_mg  VitB6_mg  Folate_mcg  VitB12_mcg  VitA_mcg  \\\n",
      "0          0.034      0.042     0.003         3.0        0.17     684.0   \n",
      "1          0.064      0.022     0.008         4.0        0.07     683.0   \n",
      "2          0.005      0.003     0.001         0.0        0.01     840.0   \n",
      "3          0.382      1.016     0.166        36.0        1.22     198.0   \n",
      "4          0.351      0.118     0.065        20.0        1.26     292.0   \n",
      "\n",
      "   VitE_mg  VitD2_mcg  \n",
      "0     2.32        0.0  \n",
      "1     1.37        0.0  \n",
      "2      2.8        0.0  \n",
      "3     0.25        0.5  \n",
      "4     0.26        0.5  \n",
      "\n",
      "[5 rows x 29 columns]\n",
      "       Energy_kcal    Protein_g  Saturated_fats_g        Fat_g       Carb_g  \\\n",
      "count  9318.000000  9318.000000       9318.000000  9318.000000  9318.000000   \n",
      "mean    220.897683    11.321644          3.305349    10.202202    21.504095   \n",
      "std     169.034417    10.438045          6.298633    15.575583    26.998286   \n",
      "min       0.000000     0.000000          0.000000     0.000000     0.000000   \n",
      "25%      86.000000     2.332500          0.136000     0.820000     0.000000   \n",
      "50%     183.000000     8.100000          1.319000     4.800000     8.720000   \n",
      "75%     330.582000    19.870000          4.000000    13.210000    32.445000   \n",
      "max     902.000000    88.320000         95.600000   100.000000   100.000000   \n",
      "\n",
      "           Fiber_g      Sugar_g   Calcium_mg      Iron_mg  Phosphorus_mg  ...  \\\n",
      "count  9318.000000  9318.000000  9318.000000  9318.000000    9318.000000  ...   \n",
      "mean      2.149810     6.522893    73.626774     2.664721     154.555758  ...   \n",
      "std       4.453051    13.496676   198.130979     5.631967     198.991857  ...   \n",
      "min       0.000000     0.000000     0.000000     0.000000       0.000000  ...   \n",
      "25%       0.000000     0.000000     9.000000     0.490000      36.000000  ...   \n",
      "50%       0.400000     0.460000    19.935000     1.300000     131.000000  ...   \n",
      "75%       2.500000     5.487500    64.000000     2.597500     216.000000  ...   \n",
      "max      79.000000    99.800000  7364.000000   123.600000    9918.000000  ...   \n",
      "\n",
      "       Selenium_mcg      VitC_mg   Thiamin_mg  Riboflavin_mg    Niacin_mg  \\\n",
      "count   9318.000000  9318.000000  9318.000000    9318.000000  9318.000000   \n",
      "mean      12.911910     8.635112     0.201506       0.226599     3.300760   \n",
      "std       27.845701    64.147308     0.494901       0.427369     4.647165   \n",
      "min        0.000000     0.000000     0.000000       0.000000     0.000000   \n",
      "25%        0.100000     0.000000     0.030000       0.042250     0.383000   \n",
      "50%        4.300000     0.000000     0.075000       0.145000     2.000000   \n",
      "75%       21.500000     2.780000     0.216750       0.253000     4.938750   \n",
      "max     1917.000000  2732.000000    23.375000      17.500000   127.500000   \n",
      "\n",
      "          VitB6_mg   Folate_mcg   VitB12_mcg      VitA_mcg    VitD2_mcg  \n",
      "count  9318.000000  9318.000000  9318.000000   9318.000000  9318.000000  \n",
      "mean      1.900472    36.649891     1.135288     89.133407     0.343880  \n",
      "std      15.738592   162.025154     4.158457    750.651532     3.003964  \n",
      "min       0.000000     0.000000     0.000000      0.000000     0.000000  \n",
      "25%       0.037000     0.000000     0.000000      0.000000     0.000000  \n",
      "50%       0.125000     7.000000     0.010000      1.000000     0.000000  \n",
      "75%       0.366000    19.000000     1.110000     19.000000     0.000000  \n",
      "max     316.000000  2875.000000    98.890000  30000.000000   250.000000  \n",
      "\n",
      "[8 rows x 25 columns]\n",
      "NDB_No               object\n",
      "Descrip              object\n",
      "Energy_kcal         float64\n",
      "Protein_g           float64\n",
      "Saturated_fats_g    float64\n",
      "Fat_g               float64\n",
      "Carb_g              float64\n",
      "Fiber_g             float64\n",
      "Sugar_g             float64\n",
      "Calcium_mg          float64\n",
      "Iron_mg             float64\n",
      "Magnesium_mg         object\n",
      "Phosphorus_mg       float64\n",
      "Potassium_mg        float64\n",
      "Sodium_mg           float64\n",
      "Zinc_mg             float64\n",
      "Copper_mcg          float64\n",
      "Manganese_mg        float64\n",
      "Selenium_mcg        float64\n",
      "VitC_mg             float64\n",
      "Thiamin_mg          float64\n",
      "Riboflavin_mg       float64\n",
      "Niacin_mg           float64\n",
      "VitB6_mg            float64\n",
      "Folate_mcg          float64\n",
      "VitB12_mcg          float64\n",
      "VitA_mcg            float64\n",
      "VitE_mg              object\n",
      "VitD2_mcg           float64\n",
      "dtype: object\n",
      "Energy_kcal         float64\n",
      "Protein_g           float64\n",
      "Saturated_fats_g    float64\n",
      "Fat_g               float64\n",
      "Carb_g              float64\n",
      "Fiber_g             float64\n",
      "Sugar_g             float64\n",
      "Calcium_mg          float64\n",
      "Iron_mg             float64\n",
      "Magnesium_mg        float64\n",
      "Phosphorus_mg       float64\n",
      "Potassium_mg        float64\n",
      "Sodium_mg           float64\n",
      "Zinc_mg             float64\n",
      "Copper_mcg          float64\n",
      "Manganese_mg        float64\n",
      "Selenium_mcg        float64\n",
      "VitC_mg             float64\n",
      "Thiamin_mg          float64\n",
      "Riboflavin_mg       float64\n",
      "Niacin_mg           float64\n",
      "VitB6_mg            float64\n",
      "Folate_mcg          float64\n",
      "VitB12_mcg          float64\n",
      "VitA_mcg            float64\n",
      "VitE_mg             float64\n",
      "VitD2_mcg           float64\n",
      "dtype: object\n",
      "   Energy_kcal  Protein_g  Saturated_fats_g     Fat_g    Carb_g   Fiber_g  \\\n",
      "0     2.933916  -1.002526          7.628258  4.551016 -0.794809 -0.483022   \n",
      "1     2.939831  -1.037016          6.679436  4.370654 -0.690737 -0.483022   \n",
      "2     3.874367  -1.057134          9.303696  5.730111 -0.797031 -0.483022   \n",
      "3     0.780936   0.966222          2.438305  1.189600 -0.710366 -0.483022   \n",
      "4     0.887402   1.142500          2.453383  1.249934 -0.693699 -0.483022   \n",
      "\n",
      "    Sugar_g  Calcium_mg   Iron_mg  Magnesium_mg  ...   VitC_mg  Thiamin_mg  \\\n",
      "0 -0.479102   -0.250541 -0.469537     -0.551482  ... -0.134673   -0.397181   \n",
      "1 -0.479102   -0.255586 -0.464212     -0.568918  ... -0.134673   -0.393141   \n",
      "2 -0.483546   -0.351453 -0.473087     -0.586354  ... -0.134673   -0.405261   \n",
      "3 -0.446509    2.292453 -0.418061     -0.185318  ... -0.134673   -0.348700   \n",
      "4 -0.445768    3.029114 -0.396761     -0.167881  ... -0.134673   -0.379001   \n",
      "\n",
      "   Riboflavin_mg  Niacin_mg  VitB6_mg  Folate_mcg  VitB12_mcg  VitA_mcg  \\\n",
      "0      -0.450652  -0.700852 -0.120208   -0.207843   -0.232263  0.792127   \n",
      "1      -0.380476  -0.705154 -0.119890   -0.201638   -0.256304  0.790795   \n",
      "2      -0.518489  -0.709242 -0.120335   -0.226461   -0.270728  0.999880   \n",
      "3       0.363393  -0.491308 -0.109839   -0.003053    0.020160  0.144894   \n",
      "4       0.290878  -0.684501 -0.116264   -0.102345    0.029776  0.270079   \n",
      "\n",
      "    VitE_mg  VitD2_mcg  \n",
      "0  0.317786  -0.114525  \n",
      "1  0.103932  -0.114525  \n",
      "2  0.425839  -0.114525  \n",
      "3 -0.148191   0.051869  \n",
      "4 -0.145940   0.051869  \n",
      "\n",
      "[5 rows x 27 columns]\n"
     ]
    }
   ],
   "source": [
    "# Required Libraries\n",
    "import pandas as pd\n",
    "import numpy as np\n",
    "from sklearn.model_selection import train_test_split\n",
    "from sklearn.ensemble import RandomForestRegressor\n",
    "from sklearn.metrics import mean_absolute_error, mean_squared_error\n",
    "from sklearn.preprocessing import StandardScaler\n",
    "import spacy\n",
    "\n",
    "# Load Dataset\n",
    "df = pd.read_csv(r\"C:\\Users\\Ankita Singh\\Ingredient-Weight-Estimation-Model\\dataset.csv\")\n",
    "\n",
    "# Display the first few rows\n",
    "print(df.head())\n",
    "\n",
    "# Drop any rows with missing values\n",
    "df_cleaned = df.dropna()\n",
    "\n",
    "# Basic statistics of the dataset\n",
    "print(df_cleaned.describe())\n",
    "\n",
    "# Display the data types of the DataFrame\n",
    "print(df_cleaned.dtypes)\n",
    "\n",
    "# Dropping columns with non-numeric data for now\n",
    "# Assuming 'NDB_No' and 'Descrip' are the only non-numeric columns\n",
    "df_cleaned = df_cleaned.drop(['NDB_No', 'Descrip'], axis=1)\n",
    "\n",
    "# Convert the 'Magnesium_mg' and 'VitE_mg' columns to numeric, forcing errors to NaN\n",
    "df_cleaned['Magnesium_mg'] = pd.to_numeric(df_cleaned['Magnesium_mg'], errors='coerce')\n",
    "df_cleaned['VitE_mg'] = pd.to_numeric(df_cleaned['VitE_mg'], errors='coerce')\n",
    "\n",
    "# Check if all columns are numeric after cleaning\n",
    "print(df_cleaned.dtypes)\n",
    "\n",
    "# Drop any rows with missing values again after conversion\n",
    "df_cleaned = df_cleaned.dropna()\n",
    "\n",
    "# Scaling numerical data for better model performance\n",
    "scaler = StandardScaler()\n",
    "df_scaled = scaler.fit_transform(df_cleaned)\n",
    "\n",
    "# Convert back to a DataFrame\n",
    "df_scaled = pd.DataFrame(df_scaled, columns=df_cleaned.columns)\n",
    "\n",
    "# Display the scaled data\n",
    "print(df_scaled.head())\n"
   ]
  },
  {
   "cell_type": "markdown",
   "id": "af80f9d2-4d03-408b-938b-d4d468aca962",
   "metadata": {},
   "source": [
    "# 2. Feature Engineering"
   ]
  },
  {
   "cell_type": "code",
   "execution_count": 2,
   "id": "7e8d49f2-deea-4645-af1f-fe3335e469de",
   "metadata": {},
   "outputs": [],
   "source": [
    "# Add back the 'Descrip' column for NLP processing\n",
    "df_cleaned['Descrip'] = df['Descrip']\n",
    "\n",
    "# Load pre-trained spaCy NLP model (assuming 'en_core_web_sm' is installed)\n",
    "nlp = spacy.load('en_core_web_sm')\n",
    "\n",
    "# Extract features from the 'Descrip' column using NLP\n",
    "def extract_ingredients(description):\n",
    "    doc = nlp(description)\n",
    "    ingredients = [token.text for token in doc if token.pos_ in ['NOUN', 'PROPN']]\n",
    "    return ' '.join(ingredients)\n",
    "\n",
    "# Apply the function to extract ingredients\n",
    "df_cleaned['Ingredients'] = df_cleaned['Descrip'].apply(extract_ingredients)\n",
    "\n",
    "# Create dummy variables for ingredients (basic example, might need tuning)\n",
    "df_cleaned = pd.get_dummies(df_cleaned, columns=['Ingredients'], drop_first=True)\n",
    "\n",
    "# Drop the original 'Descrip' column after feature extraction\n",
    "df_cleaned = df_cleaned.drop(['Descrip'], axis=1)\n",
    "\n"
   ]
  },
  {
   "cell_type": "code",
   "execution_count": 3,
   "id": "d168e8cd-0ea0-46e2-8a35-a862202d5b57",
   "metadata": {},
   "outputs": [
    {
     "ename": "NameError",
     "evalue": "name 'X_train' is not defined",
     "output_type": "error",
     "traceback": [
      "\u001b[1;31m---------------------------------------------------------------------------\u001b[0m",
      "\u001b[1;31mNameError\u001b[0m                                 Traceback (most recent call last)",
      "Cell \u001b[1;32mIn[3], line 1\u001b[0m\n\u001b[1;32m----> 1\u001b[0m problematic_rows \u001b[38;5;241m=\u001b[39m X_train[X_train\u001b[38;5;241m.\u001b[39mapplymap(\u001b[38;5;28;01mlambda\u001b[39;00m x: \u001b[38;5;28misinstance\u001b[39m(x, \u001b[38;5;28mstr\u001b[39m) \u001b[38;5;129;01mand\u001b[39;00m \u001b[38;5;124m'\u001b[39m\u001b[38;5;124m \u001b[39m\u001b[38;5;124m'\u001b[39m \u001b[38;5;129;01min\u001b[39;00m x)]\n\u001b[0;32m      2\u001b[0m \u001b[38;5;28mprint\u001b[39m(problematic_rows)\n",
      "\u001b[1;31mNameError\u001b[0m: name 'X_train' is not defined"
     ]
    }
   ],
   "source": [
    "problematic_rows = X_train[X_train.applymap(lambda x: isinstance(x, str) and ' ' in x)]\n",
    "print(problematic_rows)\n"
   ]
  },
  {
   "cell_type": "code",
   "execution_count": 4,
   "id": "fbde04e4-d6d8-470c-95af-83305a14a4c2",
   "metadata": {},
   "outputs": [
    {
     "ename": "NameError",
     "evalue": "name 'X_train' is not defined",
     "output_type": "error",
     "traceback": [
      "\u001b[1;31m---------------------------------------------------------------------------\u001b[0m",
      "\u001b[1;31mNameError\u001b[0m                                 Traceback (most recent call last)",
      "Cell \u001b[1;32mIn[4], line 8\u001b[0m\n\u001b[0;32m      5\u001b[0m             \u001b[38;5;28;01mreturn\u001b[39;00m \u001b[38;5;28mfloat\u001b[39m(value\u001b[38;5;241m.\u001b[39msplit()[\u001b[38;5;241m0\u001b[39m])  \u001b[38;5;66;03m# Or some other strategy to clean\u001b[39;00m\n\u001b[0;32m      6\u001b[0m     \u001b[38;5;28;01mreturn\u001b[39;00m value\n\u001b[1;32m----> 8\u001b[0m X_train \u001b[38;5;241m=\u001b[39m X_train\u001b[38;5;241m.\u001b[39mapplymap(clean_data)\n\u001b[0;32m      9\u001b[0m X_test \u001b[38;5;241m=\u001b[39m X_test\u001b[38;5;241m.\u001b[39mapplymap(clean_data)\n",
      "\u001b[1;31mNameError\u001b[0m: name 'X_train' is not defined"
     ]
    }
   ],
   "source": [
    "def clean_data(value):\n",
    "    if isinstance(value, str):\n",
    "        if ' ' in value:\n",
    "            # Example: Replace the space with a comma, or take the first number\n",
    "            return float(value.split()[0])  # Or some other strategy to clean\n",
    "    return value\n",
    "\n",
    "X_train = X_train.applymap(clean_data)\n",
    "X_test = X_test.applymap(clean_data)\n"
   ]
  },
  {
   "cell_type": "code",
   "execution_count": 5,
   "id": "a8f994dc-f353-480f-82be-1a36570d3cb9",
   "metadata": {},
   "outputs": [
    {
     "ename": "NameError",
     "evalue": "name 'X_train' is not defined",
     "output_type": "error",
     "traceback": [
      "\u001b[1;31m---------------------------------------------------------------------------\u001b[0m",
      "\u001b[1;31mNameError\u001b[0m                                 Traceback (most recent call last)",
      "Cell \u001b[1;32mIn[5], line 1\u001b[0m\n\u001b[1;32m----> 1\u001b[0m X_train \u001b[38;5;241m=\u001b[39m X_train\u001b[38;5;241m.\u001b[39mapply(pd\u001b[38;5;241m.\u001b[39mto_numeric, errors\u001b[38;5;241m=\u001b[39m\u001b[38;5;124m'\u001b[39m\u001b[38;5;124mcoerce\u001b[39m\u001b[38;5;124m'\u001b[39m)  \u001b[38;5;66;03m# Convert everything to numeric, set invalid entries as NaN\u001b[39;00m\n\u001b[0;32m      2\u001b[0m X_train\u001b[38;5;241m.\u001b[39mfillna(X_train\u001b[38;5;241m.\u001b[39mmedian(), inplace\u001b[38;5;241m=\u001b[39m\u001b[38;5;28;01mTrue\u001b[39;00m)\n",
      "\u001b[1;31mNameError\u001b[0m: name 'X_train' is not defined"
     ]
    }
   ],
   "source": [
    "X_train = X_train.apply(pd.to_numeric, errors='coerce')  # Convert everything to numeric, set invalid entries as NaN\n",
    "X_train.fillna(X_train.median(), inplace=True)  # Replace NaN values with median\n"
   ]
  },
  {
   "cell_type": "markdown",
   "id": "99d4352f-f60b-48f9-b578-b7a144b45105",
   "metadata": {},
   "source": [
    "# 3. Model Training"
   ]
  },
  {
   "cell_type": "code",
   "execution_count": 17,
   "id": "e8064660-db19-44b0-b6a8-c56667cc865c",
   "metadata": {},
   "outputs": [
    {
     "name": "stdout",
     "output_type": "stream",
     "text": [
      "Mean Squared Error: 2.4881936722544276\n",
      "R-squared: 0.9898999091484587\n"
     ]
    }
   ],
   "source": [
    "from sklearn.model_selection import train_test_split\n",
    "from sklearn.ensemble import RandomForestRegressor\n",
    "from sklearn.metrics import mean_squared_error, r2_score\n",
    "\n",
    "# Assuming 'df_cleaned' is your cleaned DataFrame\n",
    "# Ensure 'Fat_g' is your target variable and adjust the feature selection accordingly\n",
    "\n",
    "# Split the dataset into features (X) and target (y)\n",
    "X = df_cleaned.drop(['Fat_g'], axis=1)  # Features\n",
    "y = df_cleaned['Fat_g']  # Target\n",
    "\n",
    "# Split the data into train and test sets (80% train, 20% test)\n",
    "X_train, X_test, y_train, y_test = train_test_split(X, y, test_size=0.2, random_state=42)\n",
    "\n",
    "# Convert X_train to numeric again, and fill missing values with median (just in case)\n",
    "X_train = X_train.apply(pd.to_numeric, errors='coerce')\n",
    "X_train.fillna(X_train.median(), inplace=True)\n",
    "\n",
    "# Similarly for X_test (important step for consistency)\n",
    "X_test = X_test.apply(pd.to_numeric, errors='coerce')\n",
    "X_test.fillna(X_test.median(), inplace=True)\n",
    "\n",
    "# Initialize the RandomForestRegressor model\n",
    "model = RandomForestRegressor(n_estimators=100, random_state=42)\n",
    "\n",
    "# Train the model on the training data\n",
    "model.fit(X_train, y_train)\n",
    "\n",
    "# Predict the target on the test data\n",
    "y_pred = model.predict(X_test)\n",
    "\n",
    "# Evaluate the model\n",
    "mse = mean_squared_error(y_test, y_pred)\n",
    "r2 = r2_score(y_test, y_pred)\n",
    "\n",
    "# Print the evaluation metrics\n",
    "print(f\"Mean Squared Error: {mse}\")\n",
    "print(f\"R-squared: {r2}\")\n"
   ]
  },
  {
   "cell_type": "markdown",
   "id": "91d06328-6b99-4a4b-8323-76daf54b3b20",
   "metadata": {},
   "source": [
    " ## Model Validation (K-Fold Cross-Validation)"
   ]
  },
  {
   "cell_type": "code",
   "execution_count": 18,
   "id": "d0dd91b8-48eb-4f63-b1a9-1bbf2982d4f6",
   "metadata": {},
   "outputs": [
    {
     "name": "stdout",
     "output_type": "stream",
     "text": [
      "Average Cross-Validated MSE: 4.166442941839501\n"
     ]
    }
   ],
   "source": [
    "from sklearn.model_selection import cross_val_score\n",
    "\n",
    "# Perform K-Fold Cross-Validation\n",
    "k = 5  # Number of folds\n",
    "cv_scores = cross_val_score(model, X, y, cv=k, scoring='neg_mean_squared_error')\n",
    "\n",
    "# Convert scores to positive values and calculate the average\n",
    "cv_mse = -cv_scores.mean()\n",
    "print(f'Average Cross-Validated MSE: {cv_mse}')\n"
   ]
  },
  {
   "cell_type": "markdown",
   "id": "4a751e58-f9e0-44cb-91d8-6c16bea7caf5",
   "metadata": {},
   "source": [
    "## Error Analysis"
   ]
  },
  {
   "cell_type": "code",
   "execution_count": null,
   "id": "74cbca25-0518-4856-85be-1bb2f1b08e84",
   "metadata": {
    "scrolled": true
   },
   "outputs": [],
   "source": [
    "import matplotlib.pyplot as plt\n",
    "\n",
    "# Compare actual vs predicted values\n",
    "plt.figure(figsize=(10, 6))\n",
    "plt.scatter(y_test, y_pred, alpha=0.6, label='Predicted Values')  # Blue dots\n",
    "plt.plot([y.min(), y.max()], [y.min(), y.max()], 'r--', label='45-degree Line')  # Red line\n",
    "plt.xlabel('Actual Values')\n",
    "plt.ylabel('Predicted Values')\n",
    "plt.title('Actual vs Predicted Values')\n",
    "plt.legend()  # Add legend\n",
    "plt.show()\n",
    "\n",
    "# Residual analysis\n",
    "residuals = y_test - y_pred\n",
    "plt.figure(figsize=(10, 6))\n",
    "plt.hist(residuals, bins=30, edgecolor='k')\n",
    "plt.title('Residuals Histogram')\n",
    "plt.xlabel('Residuals')\n",
    "plt.ylabel('Frequency')\n",
    "plt.show()\n"
   ]
  },
  {
   "cell_type": "code",
   "execution_count": null,
   "id": "ecb902ea-4e69-4a22-b1d5-1fc3f00c71ee",
   "metadata": {},
   "outputs": [],
   "source": []
  }
 ],
 "metadata": {
  "kernelspec": {
   "display_name": "Python 3 (ipykernel)",
   "language": "python",
   "name": "python3"
  },
  "language_info": {
   "codemirror_mode": {
    "name": "ipython",
    "version": 3
   },
   "file_extension": ".py",
   "mimetype": "text/x-python",
   "name": "python",
   "nbconvert_exporter": "python",
   "pygments_lexer": "ipython3",
   "version": "3.11.7"
  }
 },
 "nbformat": 4,
 "nbformat_minor": 5
}
